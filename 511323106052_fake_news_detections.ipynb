{
  "nbformat": 4,
  "nbformat_minor": 0,
  "metadata": {
    "colab": {
      "provenance": [],
      "authorship_tag": "ABX9TyMSKaqL2wU/qy3ZWAfy5m2O",
      "include_colab_link": true
    },
    "kernelspec": {
      "name": "python3",
      "display_name": "Python 3"
    },
    "language_info": {
      "name": "python"
    }
  },
  "cells": [
    {
      "cell_type": "markdown",
      "metadata": {
        "id": "view-in-github",
        "colab_type": "text"
      },
      "source": [
        "<a href=\"https://colab.research.google.com/github/thanigai1830/511323106052-fake-new-detection/blob/main/511323106052_fake_news_detections.ipynb\" target=\"_parent\"><img src=\"https://colab.research.google.com/assets/colab-badge.svg\" alt=\"Open In Colab\"/></a>"
      ]
    },
    {
      "cell_type": "code",
      "execution_count": null,
      "metadata": {
        "id": "aTdeYLEUY74R"
      },
      "outputs": [],
      "source": [
        "import pandas as pd\n",
        "from sklearn.model_selection import train_test_split\n",
        "from sklearn.feature_extraction.text import TfidfVectorizer\n",
        "from sklearn.linear_model import LogisticRegression\n",
        "from sklearn.metrics import accuracy_score, classification_report\n",
        "import nltk\n",
        "import string\n",
        "\n",
        "# Download stopwords\n",
        "nltk.download('stopwords')\n",
        "from nltk.corpus import stopwords\n",
        "\n",
        "# Load dataset\n",
        "def load_data():\n",
        "    # Use your own dataset path or download from Kaggle\n",
        "    df = pd.read_csv('fake_or_real_news.csv')  # Must contain 'text' and 'label' columns\n",
        "    df = df[['text', 'label']]\n",
        "    df.dropna(inplace=True)\n",
        "    return df\n",
        "\n",
        "# Text preprocessing\n",
        "def clean_text(text):\n",
        "    text = text.lower()\n",
        "    text = ''.join([char for char in text if char not in string.punctuation])\n",
        "    stop_words = set(stopwords.words('english'))\n",
        "    words = text.split()\n",
        "    filtered = [word for word in words if word not in stop_words]\n",
        "    return ' '.join(filtered)\n",
        "\n",
        "# Main function\n",
        "def fake_news_detection():\n",
        "    # Load and clean data\n",
        "    df = load_data()\n",
        "    df['text'] = df['text'].apply(clean_text)\n",
        "\n",
        "    # Split data\n",
        "    X_train, X_test, y_train, y_test = train_test_split(df['text'], df['label'], test_size=0.2, random_state=42)\n",
        "\n",
        "    # Vectorization\n",
        "    tfidf = TfidfVectorizer(max_features=5000)\n",
        "    X_train_vec = tfidf.fit_transform(X_train)\n",
        "    X_test_vec = tfidf.transform(X_test)\n",
        "\n",
        "    # Model training\n",
        "    model = LogisticRegression()\n",
        "    model.fit(X_train_vec, y_train)\n",
        "\n",
        "    # Predictions\n",
        "    y_pred = model.predict(X_test_vec)\n",
        "\n",
        "    # Evaluation\n",
        "    print(\"Accuracy:\", accuracy_score(y_test, y_pred))\n",
        "    print(\"\\nClassification Report:\\n\", classification_report(y_test, y_pred))\n",
        "\n",
        "# Run\n",
        "if __name__ == \"__main__\":\n",
        "    fake_news_detection()\n"
      ]
    }
  ]
}